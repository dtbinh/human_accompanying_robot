{
 "cells": [
  {
   "cell_type": "markdown",
   "metadata": {},
   "source": [
    "title"
   ]
  },
  {
   "cell_type": "code",
   "execution_count": 4,
   "metadata": {
    "collapsed": false
   },
   "outputs": [
    {
     "name": "stderr",
     "output_type": "stream",
     "text": [
      "WARNING: @addNLConstraints is deprecated, use @NLconstraints instead.\n"
     ]
    },
    {
     "ename": "LoadError",
     "evalue": "LoadError: UndefVarError: @NLConstraint not defined\nwhile loading In[4], in expression starting on line 108",
     "output_type": "error",
     "traceback": [
      "LoadError: UndefVarError: @NLConstraint not defined\nwhile loading In[4], in expression starting on line 108",
      ""
     ]
    }
   ],
   "source": [
    "# this file tests the simple case of objective function\n",
    "\n",
    "using JuMP\n",
    "using Ipopt\n",
    "# using Polynomials, Interpolations\n",
    "\n",
    "import JuMP.JuMPArray, JuMP.Variable\n",
    "\n",
    "N = 30 # prediction horizon\n",
    "# robot \n",
    "init_pose = [30;30;0]\n",
    "\n",
    "# map\n",
    "x_len = 30 # x length\n",
    "y_len = 30 # y length\n",
    "xp = 1:(x_len+1) # points in x direction, i.e. horizontal distance between adjacent points are 0.2\n",
    "yp = 1:(y_len+1) # points in y direction\n",
    "ter_pos = [5;5]\n",
    "ter_r = 3\n",
    "\n",
    "zLB = [xp[1],yp[1]]\n",
    "zUB = [xp[end],yp[end]]\n",
    "uLB = [0,-pi/4]\n",
    "uUB = [1.5,pi/4]\n",
    "dt = 1\n",
    "# formulate MPC problem\n",
    "model = Model(solver=IpoptSolver(max_iter=1000, max_cpu_time=100.0, print_timing_statistics=\"yes\")) #max_cpu_time=dtMPC, hessian_approximation =\"limited-memory\"\n",
    "\n",
    "\n",
    "\n",
    "\n",
    "  maxV = 1.5;\n",
    "\n",
    "  ### Dimensions\n",
    "  nz = 2\n",
    "  nu = 2\n",
    "\n",
    "  ### Dummies\n",
    "  # (Parameters for optimization problem that can be modified online)\n",
    "  z0 = init_pose[1:2]\n",
    "  u0 = zeros(nu)\n",
    "\n",
    "  ### Variables\n",
    "@variable(model, Z[1:nz,1:N])\n",
    "  @variable(model, U[1:nu,1:N])\n",
    "  @variable(model, dummy_t[1:N]>=0)\n",
    "\n",
    "  ### initial solution\n",
    "  ux_init = (ter_pos[1]-z0[1])/N;\n",
    "  uy_init = (ter_pos[2]-z0[2])/N;\n",
    "\n",
    "  if (ux_init^2+uy_init^2) <= maxV^2\n",
    "    U_init = [ux_init*ones(1,N);uy_init*ones(1,N)]\n",
    "  else\n",
    "    angle = atan2(ter_pos[2]-z0[2],ter_pos[1]-z0[1])\n",
    "    U_init = [maxV*cos(angle)*ones(1,N);maxV*sin(angle)*ones(1,N)]\n",
    "  end\n",
    "\n",
    "  Z_init = zeros(2,N)\n",
    "  for k=1:N\n",
    "    if k == 1\n",
    "      Z_init[1,k] = z0[1] + dt*U_init[1,k]\n",
    "      Z_init[2,k] = z0[2] + dt*U_init[2,k]\n",
    "      # println(Z_init)\n",
    "    else\n",
    "      Z_init[1,k] = Z_init[1,k-1] + dt*U_init[1,k]\n",
    "      Z_init[2,k] = Z_init[2,k-1] + dt*U_init[2,k]\n",
    "      # println(Z_init)\n",
    "    end\n",
    "  end\n",
    "\n",
    "  # for k = 1:N\n",
    "  #   setValue(U[k],U_init[k])\n",
    "  #   setValue(Z[k],Z_init[k])\n",
    "  # end\n",
    "\n",
    "  ### Objective function\n",
    "\n",
    "  # @defNLExpr(obj[j=1:N], abs((Z[1,j]-ter_pos[1])^2+(Z[2,j]-ter_pos[2])^2-ter_r^2))\n",
    "  # @setNLObjective(model, Min, sum{obj,i=1:N})\n",
    "\n",
    "  # @setNLObjective(model, Min, sum{abs((Z[1,j]-ter_pos[1])^2+(Z[2,j]-ter_pos[2])^2-ter_r^2),j=1:N})\n",
    "@setNLObjective(model, Min, sum{dummy_t[i],i=1:N}) # (Z[1,N]-ter_pos[1])^2+(Z[2,N]-ter_pos[2])^2-ter_r^2\n",
    "\n",
    "  ### Constraints\n",
    "  for k=1:N\n",
    "    # Dynamics\n",
    "    if k==1\n",
    "        @NLconstraints(model, begin\n",
    "                          Z[1,k] == z0[1] + dt*U[1,k]\n",
    "                          Z[2,k] == z0[2] + dt*U[2,k]\n",
    "                        end)\n",
    "    else\n",
    "        @NLconstraints(model, begin\n",
    "                          Z[1,k] == Z[1,k-1] + dt*U[1,k]\n",
    "                          Z[2,k] == Z[2,k-1] + dt*U[2,k] \n",
    "                        end)\n",
    "    end\n",
    "    # state and input constraints\n",
    "    @NLconstraint(model, U[1,k]^2+U[2,k]^2<=maxV^2)\n",
    "    @constraint(model, zLB[1] <=Z[1,k] <= zUB[1])\n",
    "    @constraint(model, zLB[2] <=Z[2,k] <= zUB[2])   \n",
    "\n",
    "    # epigraph variable\n",
    "    @NLconstraint(model,dummy_t[k]>=(Z[1,k]-ter_pos[1])^2+(Z[2,k]-ter_pos[2])^2-ter_r^2)\n",
    "    @NLconstraint(model,dummy_t[k]>=-((Z[1,k]-ter_pos[1])^2+(Z[2,k]-ter_pos[2])^2-ter_r^2))\n",
    "  end\n",
    "  # @addNLConstraint(model,t>=(Z[1,N]-ter_pos[1])^2+(Z[2,N]-ter_pos[2])^2-ter_r^2)\n",
    "  # @addNLConstraint(model,t>=-((Z[1,N]-ter_pos[1])^2+(Z[2,N]-ter_pos[2])^2-ter_r^2))\n",
    "  \n",
    "  @NLconstraint(model,(Z[1,N]-ter_pos[1])^2+(Z[2,N]-ter_pos[2])^2 <= ter_r^2)\n",
    "\n",
    "### Solve dummy problem\n",
    "solve(model)"
   ]
  },
  {
   "cell_type": "code",
   "execution_count": null,
   "metadata": {
    "collapsed": true
   },
   "outputs": [],
   "source": []
  }
 ],
 "metadata": {
  "kernelspec": {
   "display_name": "Julia 0.4.3",
   "language": "julia",
   "name": "julia-0.4"
  },
  "language_info": {
   "file_extension": ".jl",
   "mimetype": "application/julia",
   "name": "julia",
   "version": "0.4.3"
  }
 },
 "nbformat": 4,
 "nbformat_minor": 0
}
