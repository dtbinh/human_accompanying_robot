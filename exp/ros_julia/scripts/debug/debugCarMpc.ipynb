{
 "cells": [
  {
   "cell_type": "code",
   "execution_count": 3,
   "metadata": {
    "collapsed": false
   },
   "outputs": [
    {
     "data": {
      "text/plain": [
       "true"
      ]
     },
     "execution_count": 3,
     "metadata": {},
     "output_type": "execute_result"
    }
   ],
   "source": [
    "push!(LOAD_PATH,pwd())\n",
    "using CarMpcUtils\n",
    "using Polynomials, Interpolations\n",
    "using PyPlot\n",
    "using PyCall\n",
    "@pyimport matplotlib.patches as patches\n",
    "pygui(true)"
   ]
  },
  {
   "cell_type": "code",
   "execution_count": 4,
   "metadata": {
    "collapsed": false
   },
   "outputs": [
    {
     "data": {
      "text/plain": [
       "CarMpcUtils.Tuning(0.2,0.2,20,20,[0.5,0.5,10.0,0.0],[20.0,2.0],[1000.0,20.0],10.0,[0.0],5.0,0.0,3.0,0.5)"
      ]
     },
     "execution_count": 4,
     "metadata": {},
     "output_type": "execute_result"
    }
   ],
   "source": [
    "close(\"all\")\n",
    "zCurr = [-85.0, -108.0, 70.0*pi/180, 0.0]\n",
    "Map = TrackMap(\"maps/RFS_2Lanes_Speed_0128.mat\",nNodesPolyFront=25,nNodesPolyBack=10,nNodesThreshold=5)\n",
    "vehicle = Vehicle(zCurr)\n",
    "tuning = Tuning(dt = 0.2, dtMPC = 0.2, N = 20,\n",
    "                Q = [0.5, 0.5, 10.0, 0.0], R = [20.0, 2.0],\n",
    "                P = [1000.0, 20.0], vRef = 10.0, dSafe = 5.0,\n",
    "                eYRef = 0.0, TTC = 3.0, eYSafe = 0.5)\n"
   ]
  },
  {
   "cell_type": "code",
   "execution_count": null,
   "metadata": {
    "collapsed": false
   },
   "outputs": [],
   "source": [
    "nodes, wayPointers, nLanes = Map.nodes, Map.wayPointers, Map.nWays\n",
    "speed = Map.speed\n",
    "nNodesPolyFront, nNodesPolyBack, nNodesThreshold = Map.nNodesPolyFront,\n",
    "Map.nNodesPolyBack, Map.nNodesThreshold\n",
    "xEgo, yEgo, psiEgo, vEgo = zCurr\n",
    "\n",
    "# Polynomial fit for each lane\n",
    "  coeffsLanes = Inf*ones(4,nLanes)\n",
    "  idxClosestPointLanes = round(Int64,zeros(nLanes))\n",
    "  for n=1:2\n",
    "    # nodes for each lane\n",
    "    nodesLane = nodes[:,wayPointers[1,n]:wayPointers[2,n]]\n",
    "    nNodesLane = size(nodesLane,2)\n",
    "\n",
    "    # distances from current position\n",
    "    dists = sqrt(sum((nodesLane-repmat([xEgo,yEgo],1,nNodesLane)).^2,1))\n",
    "\n",
    "    # distance and index of closest nodes\n",
    "    minDist, minIdx = findmin(dists)\n",
    "    idxClosestPointLanes[n] = wayPointers[1,n] + minIdx - 1\n",
    "    minIdx = min(minIdx, nNodesLane-1)\n",
    "    minIdx = max(minIdx, 2)\n",
    "\n",
    "    # direction of motion\n",
    "    dirEgo = [cos(psiEgo), sin(psiEgo)]\n",
    "    dirPos = nodesLane[:,minIdx+1] - nodesLane[:,minIdx]\n",
    "    direction = (dirEgo'*dirPos)[1] < 0 ? -1 : 1\n",
    "\n",
    "    # nodes for polynomial fit\n",
    "    idxStart = max(1, minIdx - (direction == 1 ? nNodesPolyBack : nNodesPolyFront))\n",
    "    idxEnd = min(nNodesLane, minIdx + (direction == 1 ? nNodesPolyFront : nNodesPolyBack))\n",
    "    nodesNear = nodesLane[:,idxStart:idxEnd]\n",
    "    nNodesNear = size(nodesNear,2)\n",
    "\n",
    "    if nNodesNear >= nNodesThreshold\n",
    "      # transform points to ego frame\n",
    "      R = [cos(psiEgo) -sin(psiEgo); sin(psiEgo) cos(psiEgo)];\n",
    "      nodesLocal = R'*(nodesNear - repmat([xEgo,yEgo],1,nNodesNear))\n",
    "\n",
    "      # compute least squares fit\n",
    "      px = nodesLocal[1,:]'\n",
    "      py = nodesLocal[2,:]'\n",
    "      H = [ones(nNodesNear) px px.^2 px.^3]\n",
    "      coeffsLanes[:,n] = -(H'*H)\\H'*py\n",
    "    end\n",
    "  end\n",
    "\n",
    "  # closest lane index\n",
    "  minEy, laneIdx = findmin(abs(coeffsLanes[1,:]))\n",
    "  coeffsCurrLane = coeffsLanes[:,laneIdx]\n",
    "  mapSpeedRef = speed[idxClosestPointLanes[laneIdx]]"
   ]
  },
  {
   "cell_type": "code",
   "execution_count": null,
   "metadata": {
    "collapsed": false
   },
   "outputs": [],
   "source": [
    "ePsi = rad2deg(atan(coeffsCurrLane[2]))"
   ]
  },
  {
   "cell_type": "code",
   "execution_count": null,
   "metadata": {
    "collapsed": false
   },
   "outputs": [],
   "source": [
    "fig = figure()\n",
    "plot(Map.nodes[1,:]',Map.nodes[2,:]')\n",
    "# plot(nodesNear[1,:]',nodesNear[2,:]')\n",
    "ax = gca()\n",
    "a = 5.0\n",
    "b = 2.0\n",
    "# rect = patches.Rectangle((zCurr[1],zCurr[2]),20.0,10.0,angle=rad2deg(zCurr[3]))\n",
    "# rect = patches.Ellipse((zCurr[1],zCurr[2]),a,b,angle=rad2deg(zCurr[3]))\n",
    "rect = patches.Polygon(objectToVertices(vehicle)')\n",
    "plot(zCurr[1],zCurr[2],marker=\"o\")\n",
    "plot(nodes[1,idxClosestPointLanes[laneIdx]],nodes[2,idxClosestPointLanes[laneIdx]],marker=\"s\")\n",
    "ax[\"add_patch\"](rect)\n",
    "show()"
   ]
  },
  {
   "cell_type": "code",
   "execution_count": null,
   "metadata": {
    "collapsed": false
   },
   "outputs": [],
   "source": [
    "figure()\n",
    "plot(nodesLocal[1,:]',nodesLocal[2,:]')\n",
    "grid(\"on\")\n",
    "xLocal = collect(-10.0:0.5:25.0)\n",
    "yLocal = -polyval(Poly(coeffsCurrLane), xLocal)\n",
    "plot(xLocal, yLocal)"
   ]
  },
  {
   "cell_type": "code",
   "execution_count": null,
   "metadata": {
    "collapsed": false
   },
   "outputs": [],
   "source": [
    "nodesNear"
   ]
  },
  {
   "cell_type": "code",
   "execution_count": null,
   "metadata": {
    "collapsed": false
   },
   "outputs": [],
   "source": [
    "nodesLocal"
   ]
  },
  {
   "cell_type": "code",
   "execution_count": null,
   "metadata": {
    "collapsed": false
   },
   "outputs": [],
   "source": [
    "laneIdx"
   ]
  },
  {
   "cell_type": "code",
   "execution_count": null,
   "metadata": {
    "collapsed": false
   },
   "outputs": [],
   "source": [
    "x = collect(0.0:0.1:10.0)"
   ]
  },
  {
   "cell_type": "code",
   "execution_count": null,
   "metadata": {
    "collapsed": false
   },
   "outputs": [],
   "source": [
    "diff(x)"
   ]
  },
  {
   "cell_type": "code",
   "execution_count": null,
   "metadata": {
    "collapsed": false
   },
   "outputs": [],
   "source": [
    "cumsum(diff(x))"
   ]
  },
  {
   "cell_type": "code",
   "execution_count": null,
   "metadata": {
    "collapsed": true
   },
   "outputs": [],
   "source": [
    "using CarMpc"
   ]
  },
  {
   "cell_type": "code",
   "execution_count": null,
   "metadata": {
    "collapsed": false
   },
   "outputs": [],
   "source": [
    "# parameters\n",
    "  dt, N = tuning.dt, tuning.N\n",
    "  xEgo, yEgo, psiEgo, vEgo = zCurr\n",
    "  nz, nu = 4, 2\n",
    "\n",
    "  # localize vehicle in lane and get reference speed\n",
    "  coeffsCurrLane, laneIdx, vRef = localizeVehicle(zCurr,Map)\n",
    "#   vRef = tuning.vRef\n",
    "\n",
    "  # longitudinal distance along lane centerline as a function of X\n",
    "  xLocal = collect(0.0:0.1:100.0)   # TODO: make these tuning parameters or part of map\n",
    "  yLocal = polyval(Poly(-coeffsCurrLane),xLocal)\n",
    "  sLocal = [0.0; cumsum(sqrt(diff(xLocal).^2 + diff(yLocal).^2))]\n",
    "\n",
    "  # desired longitudinal positions\n",
    "  sDesired = [0.0; cumsum(dt*vRef*ones(N))]\n",
    "\n",
    "  # reference points on lane centerline\n",
    "  itpX = interpolate((sLocal,), xLocal, Gridded(Linear()))\n",
    "  itpY = interpolate((sLocal,), yLocal, Gridded(Linear()))\n",
    "  xLaneLocal, yLaneLocal = itpX[sDesired], itpY[sDesired]\n",
    "  posRefLocal = hcat(xLaneLocal,yLaneLocal)'\n",
    "\n",
    "  # reference points in global frame\n",
    "  R = [cos(psiEgo) -sin(psiEgo); sin(psiEgo) cos(psiEgo)]\n",
    "  posRefGlobal = repmat([xEgo,yEgo],1,N+1) + R*posRefLocal\n",
    "\n",
    "  # heading reference\n",
    "  psiRef = psiEgo*ones(N+1,1) + [0.0; atan2(diff(xLaneLocal),diff(yLaneLocal))]\n",
    "\n",
    "  # state reference\n",
    "  ZRef = [posRefGlobal; psiRef'; vRef*ones(1,N+1)]\n",
    "  URef = zeros(nu,N)"
   ]
  },
  {
   "cell_type": "code",
   "execution_count": 6,
   "metadata": {
    "collapsed": false
   },
   "outputs": [
    {
     "data": {
      "text/plain": [
       "1-element Array{Any,1}:\n",
       " PyObject <matplotlib.lines.Line2D object at 0x31ec49d90>"
      ]
     },
     "execution_count": 6,
     "metadata": {},
     "output_type": "execute_result"
    }
   ],
   "source": [
    "fig = figure()\n",
    "plot(Map.nodes[1,:]',Map.nodes[2,:]')\n",
    "# plot(ZRef[1,:]',ZRef[2,:]')"
   ]
  },
  {
   "cell_type": "code",
   "execution_count": null,
   "metadata": {
    "collapsed": false
   },
   "outputs": [],
   "source": [
    "figure()\n",
    "plot(xLocal,yLocal)\n",
    "plot(xLaneLocal,yLaneLocal)"
   ]
  },
  {
   "cell_type": "code",
   "execution_count": null,
   "metadata": {
    "collapsed": false
   },
   "outputs": [],
   "source": [
    "figure()\n",
    "plot(sLocal,xLocal)\n",
    "plot(sDesired,xLaneLocal)"
   ]
  },
  {
   "cell_type": "code",
   "execution_count": null,
   "metadata": {
    "collapsed": false
   },
   "outputs": [],
   "source": []
  },
  {
   "cell_type": "code",
   "execution_count": null,
   "metadata": {
    "collapsed": false
   },
   "outputs": [],
   "source": []
  },
  {
   "cell_type": "code",
   "execution_count": null,
   "metadata": {
    "collapsed": false
   },
   "outputs": [],
   "source": [
    "fig = figure()\n",
    "ax1 = fig[\"add_subplot\"](111)\n",
    "ax1[\"set_title\"](\"custom picker for line data\", picker=true)\n",
    "line = ax1[\"plot\"](rand(100), rand(100), \"o\", picker=5)\n",
    "@pyimport PlotUtils as plt_utils\n",
    "fig[\"canvas\"][\"mpl_connect\"](\"pick_event\", plt_utils.onpick1)\n",
    "show()"
   ]
  },
  {
   "cell_type": "code",
   "execution_count": 9,
   "metadata": {
    "collapsed": false
   },
   "outputs": [
    {
     "data": {
      "text/plain": [
       "2-element Array{Float64,1}:\n",
       " 123.567 \n",
       "  43.8112"
      ]
     },
     "execution_count": 9,
     "metadata": {},
     "output_type": "execute_result"
    }
   ],
   "source": [
    "pt1 = Map.nodes[:,Map.wayPointers[1,2]+50]\n",
    "pt2 = Map.nodes[:,Map.wayPointers[1,2]+49]"
   ]
  },
  {
   "cell_type": "code",
   "execution_count": 10,
   "metadata": {
    "collapsed": false
   },
   "outputs": [
    {
     "data": {
      "text/plain": [
       "2-element Array{Float64,1}:\n",
       " 122.724 \n",
       "  44.3005"
      ]
     },
     "execution_count": 10,
     "metadata": {},
     "output_type": "execute_result"
    }
   ],
   "source": [
    "pt1"
   ]
  },
  {
   "cell_type": "code",
   "execution_count": 13,
   "metadata": {
    "collapsed": false
   },
   "outputs": [
    {
     "data": {
      "text/plain": [
       "2.6152797189744503"
      ]
     },
     "execution_count": 13,
     "metadata": {},
     "output_type": "execute_result"
    }
   ],
   "source": [
    "atan2(pt1[2]-pt2[2],pt1[1]-pt2[1])"
   ]
  },
  {
   "cell_type": "code",
   "execution_count": 15,
   "metadata": {
    "collapsed": false
   },
   "outputs": [
    {
     "data": {
      "text/plain": [
       "4-element Array{Float64,1}:\n",
       "  -85.0    \n",
       " -108.0    \n",
       "    1.22173\n",
       "    0.0    "
      ]
     },
     "execution_count": 15,
     "metadata": {},
     "output_type": "execute_result"
    }
   ],
   "source": [
    "z0 = vehicle.z"
   ]
  },
  {
   "cell_type": "code",
   "execution_count": 16,
   "metadata": {
    "collapsed": false
   },
   "outputs": [
    {
     "data": {
      "text/plain": [
       "0"
      ]
     },
     "execution_count": 16,
     "metadata": {},
     "output_type": "execute_result"
    }
   ],
   "source": [
    "z0[1:2] = 0"
   ]
  },
  {
   "cell_type": "code",
   "execution_count": 17,
   "metadata": {
    "collapsed": false
   },
   "outputs": [
    {
     "data": {
      "text/plain": [
       "4-element Array{Float64,1}:\n",
       " 0.0    \n",
       " 0.0    \n",
       " 1.22173\n",
       " 0.0    "
      ]
     },
     "execution_count": 17,
     "metadata": {},
     "output_type": "execute_result"
    }
   ],
   "source": [
    "z0"
   ]
  },
  {
   "cell_type": "code",
   "execution_count": 19,
   "metadata": {
    "collapsed": false
   },
   "outputs": [
    {
     "data": {
      "text/plain": [
       "2-element Array{Float64,1}:\n",
       " 0.627035\n",
       " 0.678845"
      ]
     },
     "execution_count": 19,
     "metadata": {},
     "output_type": "execute_result"
    }
   ],
   "source": [
    "vehicle.z[1:2] = rand(2)"
   ]
  },
  {
   "cell_type": "code",
   "execution_count": 21,
   "metadata": {
    "collapsed": false
   },
   "outputs": [
    {
     "data": {
      "text/plain": [
       "4-element Array{Float64,1}:\n",
       " 0.627035\n",
       " 0.678845\n",
       " 1.22173 \n",
       " 0.0     "
      ]
     },
     "execution_count": 21,
     "metadata": {},
     "output_type": "execute_result"
    }
   ],
   "source": []
  },
  {
   "cell_type": "code",
   "execution_count": null,
   "metadata": {
    "collapsed": true
   },
   "outputs": [],
   "source": []
  }
 ],
 "metadata": {
  "kernelspec": {
   "display_name": "Julia 0.4.0",
   "language": "julia",
   "name": "julia-0.4"
  },
  "language_info": {
   "file_extension": ".jl",
   "mimetype": "application/julia",
   "name": "julia",
   "version": "0.4.0"
  }
 },
 "nbformat": 4,
 "nbformat_minor": 0
}
