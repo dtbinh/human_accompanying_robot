{
 "cells": [
  {
   "cell_type": "code",
   "execution_count": 1,
   "metadata": {
    "collapsed": true
   },
   "outputs": [],
   "source": [
    "import matplotlib.pyplot as plt\n",
    "from matplotlib.lines import Line2D\n",
    "from matplotlib.patches import Rectangle\n",
    "from matplotlib.text import Text\n",
    "from matplotlib.image import AxesImage\n",
    "import numpy as np\n",
    "from numpy.random import rand\n",
    "\n",
    "if 1:  # simple picking, lines, rectangles and text\n",
    "    fig, (ax1, ax2) = plt.subplots(2, 1)\n",
    "    ax1.set_title('click on points, rectangles or text', picker=True)\n",
    "    ax1.set_ylabel('ylabel', picker=True, bbox=dict(facecolor='red'))\n",
    "    line, = ax1.plot(rand(100), 'o', picker=5)  # 5 points tolerance\n",
    "\n",
    "    # pick the rectangle\n",
    "    bars = ax2.bar(range(10), rand(10), picker=True)\n",
    "    for label in ax2.get_xticklabels():  # make the xtick labels pickable\n",
    "        label.set_picker(True)\n",
    "\n",
    "    def onpick1(event):\n",
    "        if isinstance(event.artist, Line2D):\n",
    "            thisline = event.artist\n",
    "            xdata = thisline.get_xdata()\n",
    "            ydata = thisline.get_ydata()\n",
    "            ind = event.ind\n",
    "            print('onpick1 line:', zip(np.take(xdata, ind), np.take(ydata, ind)))\n",
    "        elif isinstance(event.artist, Rectangle):\n",
    "            patch = event.artist\n",
    "            print('onpick1 patch:', patch.get_path())\n",
    "        elif isinstance(event.artist, Text):\n",
    "            text = event.artist\n",
    "            print('onpick1 text:', text.get_text())\n",
    "\n",
    "    fig.canvas.mpl_connect('pick_event', onpick1)\n"
   ]
  },
  {
   "cell_type": "code",
   "execution_count": 3,
   "metadata": {
    "collapsed": false
   },
   "outputs": [],
   "source": []
  },
  {
   "cell_type": "code",
   "execution_count": 4,
   "metadata": {
    "collapsed": true
   },
   "outputs": [],
   "source": []
  },
  {
   "cell_type": "code",
   "execution_count": null,
   "metadata": {
    "collapsed": true
   },
   "outputs": [],
   "source": []
  }
 ],
 "metadata": {
  "kernelspec": {
   "display_name": "Python 2",
   "language": "python",
   "name": "python2"
  },
  "language_info": {
   "codemirror_mode": {
    "name": "ipython",
    "version": 2
   },
   "file_extension": ".py",
   "mimetype": "text/x-python",
   "name": "python",
   "nbconvert_exporter": "python",
   "pygments_lexer": "ipython2",
   "version": "2.7.10"
  }
 },
 "nbformat": 4,
 "nbformat_minor": 0
}
