{
 "cells": [
  {
   "cell_type": "markdown",
   "metadata": {},
   "source": [
    "# test controller"
   ]
  },
  {
   "cell_type": "code",
   "execution_count": null,
   "metadata": {
    "collapsed": false
   },
   "outputs": [],
   "source": [
    "# Test script for controller.jl without using the ROS part\n",
    "push!(LOAD_PATH,pwd())\n",
    "using CarMpcUtils\n",
    "using CarMpc\n",
    "\n",
    "### Simulation parameters\n",
    "simLength = 2\n",
    "\n",
    "# # initialize vehicle\n",
    "robot = Robot([1.0, 1.0, 0.0, 0.5], model=unicycleDiscrete)\n",
    "\n",
    "# # tuning parameters\n",
    "# tuning = Tuning(dt = 0.2, dtMPC = 0.2, N = 20,\n",
    "#                 Q = [0.5, 0.5, 10.0, 0.0], R = [20.0, 2.0],\n",
    "#                 P = [1000.0, 20.0], vRef = 10.0, dSafe = 5.0,\n",
    "#                 eYRef = 0.0, TTC = 3.0, eYSafe = 0.5)\n",
    "# tuning = Tuning(dt = 1.0, dtMPC = 1.0, N = 2)\n",
    "# tuning = Tuning(dt = 0.5, N = 10, safe_dis = 1.0, safe_margin = 1.0, cmft_dis = 2.4)\n",
    "tuning = Tuning()\n",
    "\n",
    "# map\n",
    "# Map = TrackMap(\"maps/RFS_2Lanes_Speed_0128.mat\")\n",
    "field = Field(\"maps/shared_room_map.mat\")\n",
    "\n",
    "# ### Initialize MPC problem and solve dummy problem\n",
    "mpc = initializeMPCProblem(robot, field, tuning)\n",
    "nz, nu, N = mpc.nz, mpc.nu, tuning.N\n",
    "\n",
    "\n",
    "# ################\n",
    "# ##### Main #####\n",
    "# ################\n",
    "\n",
    "# ### MPC model parameters updated by subscribers\n",
    "z0 = robot.z\n",
    "u0 = zeros(nu)\n",
    "z_h = zeros(4,N+1)\n",
    "\n",
    "USim = zeros(nu,simLength)\n",
    "ZSim = [z0 zeros(nz,simLength)]\n",
    "\n",
    "### Main loop\n",
    "for t=1:simLength\n",
    "  ### Update and solve MPC problem\n",
    "    ZOpt, UOpt, solveTime = updateSolveMpcProblem(mpc, z0, z_h)\n",
    "\n",
    "  ### Update current input\n",
    "  u0[1:nu] = UOpt[:,1]\n",
    "\n",
    "  ### Update ego state\n",
    "  # updateEgoState!(vehicle,u0,tuning.dtMPC)\n",
    "  updateEgoState!(robot,u0,tuning.dt)\n",
    "\n",
    "  ### Variables for logging\n",
    "  ZSim[:,t+1] = robot.z\n",
    "  USim[:,t] = u0\n",
    "end\n",
    "\n",
    "using PyPlot\n",
    "figure()\n",
    "# plot(Map.nodes[1,:]',Map.nodes[2,:]')\n",
    "plot(ZSim[1,:]',ZSim[2,:]',marker=\"o\")\n",
    "show()"
   ]
  },
  {
   "cell_type": "code",
   "execution_count": null,
   "metadata": {
    "collapsed": true
   },
   "outputs": [],
   "source": []
  }
 ],
 "metadata": {
  "kernelspec": {
   "display_name": "Julia 0.4.3",
   "language": "julia",
   "name": "julia-0.4"
  },
  "language_info": {
   "file_extension": ".jl",
   "mimetype": "application/julia",
   "name": "julia",
   "version": "0.4.3"
  }
 },
 "nbformat": 4,
 "nbformat_minor": 0
}
